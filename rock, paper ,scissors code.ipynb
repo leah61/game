{
 "cells": [
  {
   "cell_type": "code",
   "execution_count": 16,
   "metadata": {},
   "outputs": [],
   "source": [
    "import random\n",
    "def rock():\n",
    "    comp  = random.choice([\"rock\",\"paper\",\"scissors?\"])\n",
    "    #player/me = rock,paper,scissors\n",
    "    me = input(\"play\").lower()\n",
    "    if comp == me:\n",
    "        print(\"its a draw\")\n",
    "    elif me == \"rock\":\n",
    "        if comp ==\"paper\":\n",
    "            print (\"You lost!,paper covers rock\")\n",
    "        else:\n",
    "            print(\"You win!,paper covers rock\")\n",
    "    elif me ==\"paper\":\n",
    "        if comp ==\"Scissors\":\n",
    "            print(\"You lost!,scissors cuts paper\")\n",
    "        else:\n",
    "            print(\"You win!,scissors cuts paper\")\n",
    "    elif me ==\"Scissors\":\n",
    "        if comp ==\"rock\":\n",
    "            print (\"You lost!,rock smashes scissors\")\n",
    "        else:\n",
    "            print(\"win!,rock smashes scissors\")\n",
    "    else:\n",
    "        print(\"Wrong input!\")\n",
    "                                        \n",
    "\n",
    "            "
   ]
  },
  {
   "cell_type": "code",
   "execution_count": 18,
   "metadata": {},
   "outputs": [
    {
     "name": "stdout",
     "output_type": "stream",
     "text": [
      "playpaper\n",
      "You win!,scissors cuts paper\n"
     ]
    }
   ],
   "source": [
    "rock()"
   ]
  }
 ],
 "metadata": {
  "kernelspec": {
   "display_name": "Python 3",
   "language": "python",
   "name": "python3"
  },
  "language_info": {
   "codemirror_mode": {
    "name": "ipython",
    "version": 3
   },
   "file_extension": ".py",
   "mimetype": "text/x-python",
   "name": "python",
   "nbconvert_exporter": "python",
   "pygments_lexer": "ipython3",
   "version": "3.6.4"
  }
 },
 "nbformat": 4,
 "nbformat_minor": 2
}
